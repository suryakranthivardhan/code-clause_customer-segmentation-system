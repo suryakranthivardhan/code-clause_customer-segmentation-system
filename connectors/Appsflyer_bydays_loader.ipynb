{
 "cells": [
  {
   "cell_type": "code",
   "execution_count": 1,
   "metadata": {},
   "outputs": [],
   "source": [
    "import numpy as np\n",
    "import requests\n",
    "import os\n",
    "import time\n",
    "import pprint\n",
    "from datetime import datetime, timedelta"
   ]
  },
  {
   "cell_type": "markdown",
   "metadata": {},
   "source": [
    "https://support.appsflyer.com/hc/en-us/articles/207034346-Pull-APIs-Pulling-AppsFlyer-Reports-by-APIs\n",
    "\n",
    "- API calls return a max. of 200K rows.\n",
    "- If a report has exactly 200K rows, then assume rows are missing.\n",
    "- Make multiple API calls, using from/to parameters that include the time of day.\n",
    "\n"
   ]
  },
  {
   "cell_type": "markdown",
   "metadata": {},
   "source": [
    "-------------"
   ]
  },
  {
   "cell_type": "markdown",
   "metadata": {},
   "source": [
    "# 1. Params"
   ]
  },
  {
   "cell_type": "code",
   "execution_count": 2,
   "metadata": {},
   "outputs": [],
   "source": [
    "DATA_DIRPATH = f'./'"
   ]
  },
  {
   "cell_type": "code",
   "execution_count": 3,
   "metadata": {},
   "outputs": [],
   "source": [
    "SECONDS_IN_A_DAY = 86400"
   ]
  },
  {
   "cell_type": "markdown",
   "metadata": {},
   "source": [
    "### token\n",
    "\n",
    "##### Only the admin can get a Pull API token.  https://hq1.appsflyer.com"
   ]
  },
  {
   "cell_type": "code",
   "execution_count": 4,
   "metadata": {},
   "outputs": [],
   "source": [
    "token = '1abcd2ef-3456-7gi8-j9k-101l1m1n2o13'\n",
    "api_v = 'v5'\n",
    "api_url = 'https://hq.appsflyer.com/export/'"
   ]
  },
  {
   "cell_type": "markdown",
   "metadata": {},
   "source": [
    "### apps, reports  and in app events\n",
    "https://hq1.appsflyer.com/apps/myapps"
   ]
  },
  {
   "cell_type": "code",
   "execution_count": 5,
   "metadata": {},
   "outputs": [],
   "source": [
    "apps = ['com.my.androidapp', 'id123456789',\n",
    "        'com.mysecond.androidapp', 'id987654321', \n",
    "        'com.myandroidapp.indev']"
   ]
  },
  {
   "cell_type": "code",
   "execution_count": 6,
   "metadata": {},
   "outputs": [],
   "source": [
    "reports = ['installs_report', 'uninstall_events_report', 'in_app_events_report', 'geo_by_date_report']"
   ]
  },
  {
   "cell_type": "code",
   "execution_count": 7,
   "metadata": {},
   "outputs": [],
   "source": [
    "in_app_events = ('first_open_custom', 'login', 'order','ordercancel')"
   ]
  },
  {
   "cell_type": "markdown",
   "metadata": {},
   "source": [
    "#### look for your events here: \n",
    "https://hq1.appsflyer.com/apps/myapps app dashboard > Reports > Export data > Raw data reports > In-App Events\n",
    "\n"
   ]
  },
  {
   "cell_type": "markdown",
   "metadata": {},
   "source": [
    "### additional fields"
   ]
  },
  {
   "cell_type": "code",
   "execution_count": 8,
   "metadata": {},
   "outputs": [],
   "source": [
    "installs_additional_fields = ('install_app_store','match_type','contributor1_match_type',\n",
    "                              'contributor2_match_type','contributor3_match_type','device_category',\n",
    "                              'gp_referrer','gp_click_time','gp_install_begin',\n",
    "                              'amazon_aid','keyword_match_type')"
   ]
  },
  {
   "cell_type": "code",
   "execution_count": 9,
   "metadata": {},
   "outputs": [],
   "source": [
    "events_additional_fields = ('install_app_store','match_type','contributor1_match_type',\n",
    "                            'contributor2_match_type','contributor3_match_type','device_category',\n",
    "                            'gp_referrer','gp_click_time','gp_install_begin',\n",
    "                            'amazon_aid','keyword_match_type')"
   ]
  },
  {
   "cell_type": "code",
   "execution_count": 10,
   "metadata": {},
   "outputs": [],
   "source": [
    "uninstall_additional_fields = ('gp_referrer','gp_click_time','gp_install_begin',\n",
    "                               'amazon_aid','keyword_match_type')"
   ]
  },
  {
   "cell_type": "markdown",
   "metadata": {},
   "source": [
    "### timezone\n",
    "https://support.appsflyer.com/hc/en-us/articles/207034346-Pull-API-aggregate-and-raw-data-reporting#raw-data-time-zone-and-currency"
   ]
  },
  {
   "cell_type": "code",
   "execution_count": 11,
   "metadata": {},
   "outputs": [
    {
     "data": {
      "text/plain": [
       "'Asia/Yekaterinburg'"
      ]
     },
     "execution_count": 11,
     "metadata": {},
     "output_type": "execute_result"
    }
   ],
   "source": [
    "timezone = 'Asia/Yekaterinburg'\n",
    "# timezone = 'Europe/Moscow'\n",
    "# timezone = 'America/Chicago'\n",
    "# timezone = 'Europe/Paris'\n",
    "# timezone = 'Asia/Jakarta'\n",
    "\n",
    "timezone"
   ]
  },
  {
   "cell_type": "markdown",
   "metadata": {},
   "source": [
    "------------"
   ]
  },
  {
   "cell_type": "markdown",
   "metadata": {},
   "source": [
    "# 2. Functions"
   ]
  },
  {
   "cell_type": "code",
   "execution_count": 12,
   "metadata": {},
   "outputs": [],
   "source": [
    "def get_months(stopdate):\n",
    "    current_month = stopdate.replace(day=1)\n",
    "    \n",
    "    month_3 = stopdate\n",
    "    month_2 = month_3.replace(day=1) - timedelta(days=1)\n",
    "    month_1 = month_2.replace(day=1) - timedelta(days=1)\n",
    "    \n",
    "    \n",
    "    \n",
    "    return month_1, month_2, month_3 "
   ]
  },
  {
   "cell_type": "code",
   "execution_count": 13,
   "metadata": {},
   "outputs": [],
   "source": [
    "def make_request(url, params):\n",
    "    r = requests.get(url, params = params)\n",
    "    if r.ok:\n",
    "        return r\n",
    "    \n",
    "    time.sleep(61)\n",
    "    r = requests.get(url, params = params)\n",
    "    return r"
   ]
  },
  {
   "cell_type": "code",
   "execution_count": 14,
   "metadata": {},
   "outputs": [],
   "source": [
    "def save_csv(r, filename):\n",
    "    r_csv = open(filename, 'w')\n",
    "    r_csv.write(r.text)\n",
    "    r_csv.close()\n",
    "    pass"
   ]
  },
  {
   "cell_type": "code",
   "execution_count": 15,
   "metadata": {},
   "outputs": [],
   "source": [
    "def load_csv(url, params, filename):\n",
    "    \n",
    "    r = make_request(url, params)\n",
    "    \n",
    "    if not r.ok:\n",
    "        print(r.text)\n",
    "    elif len(r.text.split('\\n')) < 2:\n",
    "        print(r.text, 'Error: Empty file. Not saved')\n",
    "    elif len(r.text.split('\\n')) >= 200000:\n",
    "        print(r.text, 'Notice. Report limitations: Up to 200K rows. Not saved')\n",
    "    else:\n",
    "        save_csv(r, filename)\n",
    "\n",
    "\n",
    "    print(f'{r.reason} Status code - {r.status_code}')"
   ]
  },
  {
   "cell_type": "code",
   "execution_count": 16,
   "metadata": {},
   "outputs": [],
   "source": [
    "def make_url(app, report, api_url=api_url, api_v=api_v):\n",
    "    url = str(api_url + app + '/' + report + '/' + api_v)\n",
    "    return url"
   ]
  },
  {
   "cell_type": "code",
   "execution_count": 17,
   "metadata": {},
   "outputs": [],
   "source": [
    "def make_params(report, from_date, to_date, token=token, timezone=timezone, in_app_events=in_app_events):\n",
    "    \n",
    "    params = {\n",
    "        'api_token': token, \n",
    "        'from': from_date, \n",
    "        'to': to_date\n",
    "        }\n",
    "    if report == 'installs_report':\n",
    "        params.setdefault('additional_fields', installs_additional_fields)\n",
    "    elif report == 'uninstall_events_report':\n",
    "        params.setdefault('additional_fields', uninstall_additional_fields)\n",
    "    elif report == 'in_app_events_report':\n",
    "        params.setdefault('additional_fields', events_additional_fields)\n",
    "        params.setdefault('event_name', in_app_events)\n",
    "\n",
    "    \n",
    "        \n",
    "    params.setdefault('timezone', timezone)\n",
    "       \n",
    "    return params\n"
   ]
  },
  {
   "cell_type": "code",
   "execution_count": 18,
   "metadata": {},
   "outputs": [],
   "source": [
    "def make_filename(app, report, dirpath, from_date, to_date, timezone=timezone):\n",
    "    timezone = '_'.join(timezone.split('/'))\n",
    "    filename = f'{dirpath}/{app}_{report}_{from_date}_{to_date}_{timezone}.csv'\n",
    "    return filename"
   ]
  },
  {
   "cell_type": "markdown",
   "metadata": {},
   "source": [
    "------------------"
   ]
  },
  {
   "cell_type": "markdown",
   "metadata": {},
   "source": [
    "# 3. Download and Save"
   ]
  },
  {
   "cell_type": "code",
   "execution_count": 19,
   "metadata": {},
   "outputs": [
    {
     "data": {
      "text/plain": [
       "datetime.datetime(2020, 6, 1, 13, 55, 56, 318695)"
      ]
     },
     "execution_count": 19,
     "metadata": {},
     "output_type": "execute_result"
    }
   ],
   "source": [
    "stopdate = datetime.today() - timedelta(days=1)\n",
    "stopdate"
   ]
  },
  {
   "cell_type": "code",
   "execution_count": 20,
   "metadata": {},
   "outputs": [],
   "source": [
    "months = get_months(stopdate)"
   ]
  },
  {
   "cell_type": "code",
   "execution_count": 21,
   "metadata": {},
   "outputs": [
    {
     "name": "stdout",
     "output_type": "stream",
     "text": [
      "Check/create directory 2020_04\n",
      "Check/create directory 2020_05\n",
      "Check/create directory 2020_06\n"
     ]
    }
   ],
   "source": [
    "for month in months:\n",
    "    if not os.path.isdir(DATA_DIRPATH + f\"{month.strftime('%Y_%m')}\"):\n",
    "        os.makedirs(DATA_DIRPATH + f\"{month.strftime('%Y_%m')}\")\n",
    "    print(f\"Check/create directory {month.strftime('%Y_%m')}\")"
   ]
  },
  {
   "cell_type": "markdown",
   "metadata": {},
   "source": [
    "https://support.appsflyer.com/hc/en-us/articles/207034366-API-Policy\n",
    "\n",
    "- Up to 120 calls per day, per account, 24 calls per app\n",
    "- Up to 60 calls per day, per account, 12 calls per app"
   ]
  },
  {
   "cell_type": "code",
   "execution_count": 22,
   "metadata": {},
   "outputs": [],
   "source": [
    "i = 1\n",
    "last_geo_report_time = datetime.now()"
   ]
  },
  {
   "cell_type": "code",
   "execution_count": 23,
   "metadata": {},
   "outputs": [],
   "source": [
    "counts = {\n",
    "    'installs_count': dict.fromkeys(['all'] + apps, 0),\n",
    "    'events_count': dict.fromkeys(['all'] + apps, 0)\n",
    "    }"
   ]
  },
  {
   "cell_type": "code",
   "execution_count": 24,
   "metadata": {
    "scrolled": true
   },
   "outputs": [
    {
     "name": "stdout",
     "output_type": "stream",
     "text": [
      "{'2020_04': {},\n",
      " '2020_05': {27: {'com.myandroidapp.indev': ['installs_report',\n",
      "                                             'uninstall_events_report',\n",
      "                                             'in_app_events_report']},\n",
      "             28: {'com.myandroidapp.indev': ['installs_report',\n",
      "                                             'uninstall_events_report',\n",
      "                                             'in_app_events_report']},\n",
      "             29: {'com.myandroidapp.indev': ['installs_report',\n",
      "                                             'uninstall_events_report',\n",
      "                                             'in_app_events_report']},\n",
      "             30: {'com.myandroidapp.indev': ['installs_report',\n",
      "                                             'uninstall_events_report',\n",
      "                                             'in_app_events_report']},\n",
      "             31: {'com.myandroidapp.indev': ['installs_report',\n",
      "                                             'uninstall_events_report',\n",
      "                                             'in_app_events_report']}},\n",
      " '2020_06': {1: {'com.my.androidapp': ['installs_report',\n",
      "                                       'uninstall_events_report',\n",
      "                                       'in_app_events_report',\n",
      "                                       'geo_by_date_report'],\n",
      "                 'com.myandroidapp.indev': ['installs_report',\n",
      "                                            'uninstall_events_report',\n",
      "                                            'in_app_events_report',\n",
      "                                            'geo_by_date_report'],\n",
      "                 'com.mysecond.androidapp': ['installs_report',\n",
      "                                             'uninstall_events_report',\n",
      "                                             'in_app_events_report',\n",
      "                                             'geo_by_date_report'],\n",
      "                 'id123456789': ['installs_report',\n",
      "                                 'uninstall_events_report',\n",
      "                                 'in_app_events_report',\n",
      "                                 'geo_by_date_report'],\n",
      "                 'id987654321': ['installs_report',\n",
      "                                 'uninstall_events_report',\n",
      "                                 'in_app_events_report',\n",
      "                                 'geo_by_date_report']}}}\n"
     ]
    }
   ],
   "source": [
    "download_dict = dict()\n",
    "\n",
    "for app in apps:\n",
    "    download_dict[app] = dict()\n",
    "    for report in reports:\n",
    "        download_dict[app][report] = dict()\n",
    "        for month in months:\n",
    "            \n",
    "            app_files = [x for x in os.listdir(DATA_DIRPATH + f\"{month.strftime('%Y_%m')}\") if x.startswith(f'{app}_')]\n",
    "            report_files = [x for x in app_files if report[:-6] in x]\n",
    "            actual_month_days = set(np.arange(1, month.day+1))\n",
    "            \n",
    "            downloaded_days = np.empty(0, dtype=int)\n",
    "            for report_file in report_files:\n",
    "                report_days = [int(x[:2]) for x in report_file.split(month.strftime('%Y-%m-'))[1:3]]\n",
    "                downloaded_days = np.append(downloaded_days, np.arange(report_days[0], report_days[1]+1))\n",
    "                                 \n",
    "            download_dict[app][report][month.strftime('%Y_%m')] = list(actual_month_days - set(downloaded_days))\n",
    "            download_dict[app][report][month.strftime('%Y_%m')].sort()\n",
    "                                               \n",
    "\n",
    "download = dict()\n",
    "\n",
    "for month in months:\n",
    "    download[month.strftime('%Y_%m')] = dict()\n",
    "    actual_month_days = set(np.arange(1, month.day+1))\n",
    "    \n",
    "    for day in actual_month_days:\n",
    "        download[month.strftime('%Y_%m')][day] = dict()\n",
    "        \n",
    "        for app in apps:\n",
    "            download[month.strftime('%Y_%m')][day][app] = list()\n",
    "            \n",
    "            for report in reports:\n",
    "                \n",
    "                if day in download_dict[app][report][month.strftime('%Y_%m')]:\n",
    "                    download[month.strftime('%Y_%m')][day][app].append(report)\n",
    "            if not len(download[month.strftime('%Y_%m')][day][app]):\n",
    "                download[month.strftime('%Y_%m')][day].pop(app)\n",
    "        if not len(download[month.strftime('%Y_%m')][day]):\n",
    "            download[month.strftime('%Y_%m')].pop(day)\n",
    "                 \n",
    "\n",
    "download_dict = download\n",
    "                                               \n",
    "pprint.pprint(download_dict)"
   ]
  },
  {
   "cell_type": "markdown",
   "metadata": {},
   "source": [
    "----------------"
   ]
  },
  {
   "cell_type": "code",
   "execution_count": 25,
   "metadata": {
    "scrolled": false
   },
   "outputs": [
    {
     "name": "stdout",
     "output_type": "stream",
     "text": [
      "    1. com.myandroidapp.indev         installs_report           2020_05_27\n",
      "OK Status code - 200\n",
      "    2. com.myandroidapp.indev         uninstall_events_report   2020_05_27\n",
      "OK Status code - 200\n",
      "    3. com.myandroidapp.indev         in_app_events_report      2020_05_27\n",
      "OK Status code - 200\n",
      "    4. com.myandroidapp.indev         installs_report           2020_05_28\n",
      "OK Status code - 200\n",
      "    5. com.myandroidapp.indev         uninstall_events_report   2020_05_28\n",
      "OK Status code - 200\n",
      "    6. com.myandroidapp.indev         in_app_events_report      2020_05_28\n",
      "OK Status code - 200\n",
      "    7. com.myandroidapp.indev         installs_report           2020_05_29\n",
      "OK Status code - 200\n",
      "    8. com.myandroidapp.indev         uninstall_events_report   2020_05_29\n",
      "OK Status code - 200\n",
      "    9. com.myandroidapp.indev         in_app_events_report      2020_05_29\n",
      "OK Status code - 200\n",
      "   10. com.myandroidapp.indev         installs_report           2020_05_30\n",
      "OK Status code - 200\n",
      "   11. com.myandroidapp.indev         uninstall_events_report   2020_05_30\n",
      "OK Status code - 200\n",
      "   12. com.myandroidapp.indev         in_app_events_report      2020_05_30\n",
      "OK Status code - 200\n",
      "   13. com.myandroidapp.indev         installs_report           2020_05_31\n",
      "OK Status code - 200\n",
      "   14. com.myandroidapp.indev         uninstall_events_report   2020_05_31\n",
      "OK Status code - 200\n",
      "   15. com.myandroidapp.indev         in_app_events_report      2020_05_31\n",
      "OK Status code - 200\n",
      "   16. com.my.androidapp              installs_report           2020_06_01\n",
      "OK Status code - 200\n",
      "   17. com.my.androidapp              uninstall_events_report   2020_06_01\n",
      "OK Status code - 200\n",
      "   18. com.my.androidapp              in_app_events_report      2020_06_01\n",
      "OK Status code - 200\n",
      "   19. com.my.androidapp              geo_by_date_report        2020_06_01\n",
      "OK Status code - 200\n",
      "   20. id123456789                    installs_report           2020_06_01\n",
      "OK Status code - 200\n",
      "   21. id123456789                    uninstall_events_report   2020_06_01\n",
      "OK Status code - 200\n",
      "   22. id123456789                    in_app_events_report      2020_06_01\n",
      "OK Status code - 200\n",
      "   23. id123456789                    geo_by_date_report        2020_06_01\n",
      "OK Status code - 200\n",
      "   24. com.mysecond.androidapp        installs_report           2020_06_01\n",
      "OK Status code - 200\n",
      "   25. com.mysecond.androidapp        uninstall_events_report   2020_06_01\n",
      "OK Status code - 200\n",
      "   26. com.mysecond.androidapp        in_app_events_report      2020_06_01\n",
      "OK Status code - 200\n",
      "   27. com.mysecond.androidapp        geo_by_date_report        2020_06_01\n",
      "OK Status code - 200\n",
      "   28. id987654321                    installs_report           2020_06_01\n",
      "OK Status code - 200\n",
      "   29. id987654321                    uninstall_events_report   2020_06_01\n",
      "OK Status code - 200\n",
      "   30. id987654321                    in_app_events_report      2020_06_01\n",
      "OK Status code - 200\n",
      "   31. id987654321                    geo_by_date_report        2020_06_01\n",
      "OK Status code - 200\n",
      "   32. com.myandroidapp.indev         installs_report           2020_06_01\n",
      "OK Status code - 200\n",
      "   33. com.myandroidapp.indev         uninstall_events_report   2020_06_01\n",
      "OK Status code - 200\n",
      "   34. com.myandroidapp.indev         in_app_events_report      2020_06_01\n",
      "OK Status code - 200\n",
      "   35. com.myandroidapp.indev         geo_by_date_report        2020_06_01\n",
      "OK Status code - 200\n",
      "CPU times: user 22.5 ms, sys: 22.1 ms, total: 44.7 ms\n",
      "Wall time: 19.1 s\n"
     ]
    }
   ],
   "source": [
    "%%time\n",
    "\n",
    "for month in download_dict.keys():\n",
    "    \n",
    "    for day in download_dict[month].keys():\n",
    "        \n",
    "        for app in download_dict[month][day].keys():\n",
    "            \n",
    "            for report in download_dict[month][day][app]:\n",
    "                if (report == 'installs_report' or report == 'uninstall_events_report') and (counts['installs_count'][app] == 24 or counts['installs_count']['all'] == 120):\n",
    "                    continue\n",
    "                elif report == 'in_app_events_report' and (counts['events_count'][app] == 12 or counts['events_count']['all'] == 60):\n",
    "                    continue\n",
    "                \n",
    "                \n",
    "\n",
    "                if report == 'installs_report' or report == 'uninstall_events_report':\n",
    "                    counts['installs_count']['all'] += 1\n",
    "                    counts['installs_count'][app] += 1\n",
    "                elif report == 'in_app_events_report':\n",
    "                    counts['events_count']['all'] += 1\n",
    "                    counts['events_count'][app] += 1\n",
    "                else: # geo_by_date_report\n",
    "                    seconds_passed = SECONDS_IN_A_DAY - (last_geo_report_time - datetime.now() + timedelta(1)).seconds\n",
    "                    if seconds_passed < 61:\n",
    "                        time.sleep(61 - seconds_passed)\n",
    "                    last_geo_report_time = datetime.now()\n",
    "                    \n",
    "                \n",
    "                url = make_url(app, report)\n",
    "                one_day = datetime(year=int(month.split('_')[0]),\n",
    "                                   month=int(month.split('_')[1]),\n",
    "                                   day=day\n",
    "                                  ).strftime('%Y-%m-%d')\n",
    "                \n",
    "                params = make_params(report, from_date=one_day, to_date=one_day)\n",
    "                dirpath = f'{DATA_DIRPATH}{month}'\n",
    "                filename = make_filename(app, report, dirpath=dirpath, from_date=one_day, to_date=one_day)\n",
    "                             \n",
    "                \n",
    "                print(f'{i:5}. {app:30} {report:25} {month}_{day:02}')    \n",
    "                load_csv(url, params, filename) \n",
    "                i += 1\n",
    "        "
   ]
  },
  {
   "cell_type": "code",
   "execution_count": null,
   "metadata": {},
   "outputs": [],
   "source": []
  }
 ],
 "metadata": {
  "kernelspec": {
   "display_name": "Python 3",
   "language": "python",
   "name": "python3"
  },
  "language_info": {
   "codemirror_mode": {
    "name": "ipython",
    "version": 3
   },
   "file_extension": ".py",
   "mimetype": "text/x-python",
   "name": "python",
   "nbconvert_exporter": "python",
   "pygments_lexer": "ipython3",
   "version": "3.7.4"
  }
 },
 "nbformat": 4,
 "nbformat_minor": 2
}
