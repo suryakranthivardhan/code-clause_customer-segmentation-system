{
 "cells": [
  {
   "cell_type": "markdown",
   "metadata": {
    "id": "V0a--Ge8HVKy"
   },
   "source": [
    "# Explore users behavior with transition matrix"
   ]
  },
  {
   "cell_type": "markdown",
   "metadata": {
    "id": "iFmb5TiOHVKz"
   },
   "source": [
    "In the sections above we have discussed how we can visualize user trajectories with plot_graph() Rete function. Here we will discuss in depth analysis of dataframe corresponding to the graph and major clickstream exploratory analysis tools for helicopter view on your data."
   ]
  },
  {
   "cell_type": "markdown",
   "metadata": {
    "id": "HJ3m7UlHHVK0"
   },
   "source": [
    "## Before you start"
   ]
  },
  {
   "cell_type": "markdown",
   "metadata": {
    "id": "4XxDaFPGHVK0"
   },
   "source": [
    "install retentioneering if running from google.colab or for the first time:"
   ]
  },
  {
   "cell_type": "code",
   "execution_count": 1,
   "metadata": {
    "colab": {
     "base_uri": "https://localhost:8080/",
     "height": 1000
    },
    "id": "VEFmtwyCHVK1",
    "outputId": "24c8753e-8c52-4397-b4ab-110889e79e19"
   },
   "outputs": [],
   "source": [
    "!pip3 install retentioneering"
   ]
  },
  {
   "cell_type": "markdown",
   "metadata": {
    "id": "-QvXVZkvHVK5"
   },
   "source": [
    "To start with these tools, you need to upload your own .csv with clickstream data (as described in Getting started) or you can use the retentioneering.datasets.load_simple_shop() for our sample dataset.\n",
    "\n",
    "So for the first step please make sure you have Retentioneering imported and dataframe with your clickstream is created, and by calling retentioneering.config.update you defined for the library where the essential user_col, event_col, event_time_col are located in your loaded dataframe:"
   ]
  },
  {
   "cell_type": "code",
   "execution_count": 3,
   "metadata": {
    "id": "AUo7MwP_HVK6"
   },
   "outputs": [],
   "source": [
    "import retentioneering\n",
    "\n",
    "# load sample data\n",
    "data = retentioneering.datasets.load_simple_shop()\n",
    "\n",
    "retentioneering.config.update({\n",
    "    'user_col': 'user_id',\n",
    "    'event_col':'event',\n",
    "    'event_time_col':'timestamp',\n",
    "})"
   ]
  },
  {
   "cell_type": "markdown",
   "metadata": {
    "id": "91xtpDQhHVK9"
   },
   "source": [
    "We suggest you have a quick exploration of your dataframe data before moving forward."
   ]
  },
  {
   "cell_type": "code",
   "execution_count": null,
   "metadata": {
    "id": "OGfMHODQWtY4"
   },
   "outputs": [],
   "source": []
  },
  {
   "cell_type": "markdown",
   "metadata": {
    "id": "Dbsn7AhXHVK9"
   },
   "source": [
    "## Explore transitions of your users between events with dataframe of adjacency matrix "
   ]
  },
  {
   "cell_type": "markdown",
   "metadata": {
    "id": "GEFPIkBCHVK-"
   },
   "source": [
    "### get_adjacency function and its options\n",
    "\n",
    "Similar approch as we had used with plot_graph() we may apply to explore the transitions in form of dataframe. Every graph can be represented as a matrix (table or dataframe). Your data have transitions of many users, we can strictly count how many users have certain transitions and build the table, where every row correspond to the origin event from which transition is made, and the columns correspond to destination event. Therefore, every cell of this table correspond to particular graph edge. \n",
    "\n",
    "Please note, that diagonal cells correspond to loops: transition from the node to itself. Typical example is the navigation with online shop where user goes from one catalog page to another catalog page.\n",
    "\n",
    "The dataframe with this table, formally defined as adjacency matrix, because it reveales how the graph nodes are connected with edges, can be build by Retentioneering get_adjacency() function. Its arguments weight_col and norm_type are analogous to plot_graph() function, (read mode about these arguments in visualization tool descriptions https://retentioneering.github.io/retentioneering-tools/_build/html/plot_graph.html)\n",
    "\n",
    "As we want to explore how many users of our clickstream dataset had particular transition, we can run it with weigh_col='user_id' and norm_type=None:\n"
   ]
  },
  {
   "cell_type": "code",
   "execution_count": 4,
   "metadata": {
    "colab": {
     "base_uri": "https://localhost:8080/",
     "height": 445
    },
    "id": "5p0sxFXhHVK_",
    "outputId": "37ea04b5-0b0d-43ce-b1f8-4538989c7f9b"
   },
   "outputs": [
    {
     "data": {
      "text/html": [
       "<div>\n",
       "<style scoped>\n",
       "    .dataframe tbody tr th:only-of-type {\n",
       "        vertical-align: middle;\n",
       "    }\n",
       "\n",
       "    .dataframe tbody tr th {\n",
       "        vertical-align: top;\n",
       "    }\n",
       "\n",
       "    .dataframe thead th {\n",
       "        text-align: right;\n",
       "    }\n",
       "</style>\n",
       "<table border=\"1\" class=\"dataframe\">\n",
       "  <thead>\n",
       "    <tr style=\"text-align: right;\">\n",
       "      <th></th>\n",
       "      <th>cart</th>\n",
       "      <th>catalog</th>\n",
       "      <th>delivery_choice</th>\n",
       "      <th>lost</th>\n",
       "      <th>main</th>\n",
       "      <th>product1</th>\n",
       "      <th>product2</th>\n",
       "      <th>delivery_courier</th>\n",
       "      <th>delivery_pickup</th>\n",
       "      <th>payment_choice</th>\n",
       "      <th>payment_card</th>\n",
       "      <th>payment_done</th>\n",
       "      <th>payment_cash</th>\n",
       "    </tr>\n",
       "  </thead>\n",
       "  <tbody>\n",
       "    <tr>\n",
       "      <th>cart</th>\n",
       "      <td>1.0</td>\n",
       "      <td>478.0</td>\n",
       "      <td>1356.0</td>\n",
       "      <td>330.0</td>\n",
       "      <td>204.0</td>\n",
       "      <td>0.0</td>\n",
       "      <td>0.0</td>\n",
       "      <td>0.0</td>\n",
       "      <td>0.0</td>\n",
       "      <td>0.0</td>\n",
       "      <td>0.0</td>\n",
       "      <td>0.0</td>\n",
       "      <td>0.0</td>\n",
       "    </tr>\n",
       "    <tr>\n",
       "      <th>catalog</th>\n",
       "      <td>1324.0</td>\n",
       "      <td>2004.0</td>\n",
       "      <td>0.0</td>\n",
       "      <td>1605.0</td>\n",
       "      <td>1480.0</td>\n",
       "      <td>1122.0</td>\n",
       "      <td>1430.0</td>\n",
       "      <td>0.0</td>\n",
       "      <td>0.0</td>\n",
       "      <td>0.0</td>\n",
       "      <td>0.0</td>\n",
       "      <td>0.0</td>\n",
       "      <td>0.0</td>\n",
       "    </tr>\n",
       "    <tr>\n",
       "      <th>delivery_choice</th>\n",
       "      <td>0.0</td>\n",
       "      <td>172.0</td>\n",
       "      <td>0.0</td>\n",
       "      <td>92.0</td>\n",
       "      <td>68.0</td>\n",
       "      <td>0.0</td>\n",
       "      <td>0.0</td>\n",
       "      <td>748.0</td>\n",
       "      <td>469.0</td>\n",
       "      <td>0.0</td>\n",
       "      <td>0.0</td>\n",
       "      <td>0.0</td>\n",
       "      <td>0.0</td>\n",
       "    </tr>\n",
       "    <tr>\n",
       "      <th>lost</th>\n",
       "      <td>0.0</td>\n",
       "      <td>0.0</td>\n",
       "      <td>0.0</td>\n",
       "      <td>0.0</td>\n",
       "      <td>0.0</td>\n",
       "      <td>0.0</td>\n",
       "      <td>0.0</td>\n",
       "      <td>0.0</td>\n",
       "      <td>0.0</td>\n",
       "      <td>0.0</td>\n",
       "      <td>0.0</td>\n",
       "      <td>0.0</td>\n",
       "      <td>0.0</td>\n",
       "    </tr>\n",
       "    <tr>\n",
       "      <th>main</th>\n",
       "      <td>0.0</td>\n",
       "      <td>2015.0</td>\n",
       "      <td>0.0</td>\n",
       "      <td>488.0</td>\n",
       "      <td>603.0</td>\n",
       "      <td>0.0</td>\n",
       "      <td>0.0</td>\n",
       "      <td>0.0</td>\n",
       "      <td>0.0</td>\n",
       "      <td>0.0</td>\n",
       "      <td>0.0</td>\n",
       "      <td>0.0</td>\n",
       "      <td>0.0</td>\n",
       "    </tr>\n",
       "    <tr>\n",
       "      <th>product1</th>\n",
       "      <td>431.0</td>\n",
       "      <td>620.0</td>\n",
       "      <td>0.0</td>\n",
       "      <td>163.0</td>\n",
       "      <td>114.0</td>\n",
       "      <td>0.0</td>\n",
       "      <td>0.0</td>\n",
       "      <td>0.0</td>\n",
       "      <td>0.0</td>\n",
       "      <td>0.0</td>\n",
       "      <td>0.0</td>\n",
       "      <td>0.0</td>\n",
       "      <td>0.0</td>\n",
       "    </tr>\n",
       "    <tr>\n",
       "      <th>product2</th>\n",
       "      <td>582.0</td>\n",
       "      <td>934.0</td>\n",
       "      <td>0.0</td>\n",
       "      <td>116.0</td>\n",
       "      <td>88.0</td>\n",
       "      <td>0.0</td>\n",
       "      <td>0.0</td>\n",
       "      <td>0.0</td>\n",
       "      <td>0.0</td>\n",
       "      <td>0.0</td>\n",
       "      <td>0.0</td>\n",
       "      <td>0.0</td>\n",
       "      <td>0.0</td>\n",
       "    </tr>\n",
       "    <tr>\n",
       "      <th>delivery_courier</th>\n",
       "      <td>0.0</td>\n",
       "      <td>0.0</td>\n",
       "      <td>0.0</td>\n",
       "      <td>46.0</td>\n",
       "      <td>34.0</td>\n",
       "      <td>0.0</td>\n",
       "      <td>0.0</td>\n",
       "      <td>0.0</td>\n",
       "      <td>0.0</td>\n",
       "      <td>683.0</td>\n",
       "      <td>0.0</td>\n",
       "      <td>0.0</td>\n",
       "      <td>0.0</td>\n",
       "    </tr>\n",
       "    <tr>\n",
       "      <th>delivery_pickup</th>\n",
       "      <td>0.0</td>\n",
       "      <td>0.0</td>\n",
       "      <td>0.0</td>\n",
       "      <td>92.0</td>\n",
       "      <td>55.0</td>\n",
       "      <td>0.0</td>\n",
       "      <td>0.0</td>\n",
       "      <td>0.0</td>\n",
       "      <td>0.0</td>\n",
       "      <td>332.0</td>\n",
       "      <td>0.0</td>\n",
       "      <td>0.0</td>\n",
       "      <td>0.0</td>\n",
       "    </tr>\n",
       "    <tr>\n",
       "      <th>payment_choice</th>\n",
       "      <td>0.0</td>\n",
       "      <td>108.0</td>\n",
       "      <td>0.0</td>\n",
       "      <td>89.0</td>\n",
       "      <td>41.0</td>\n",
       "      <td>0.0</td>\n",
       "      <td>0.0</td>\n",
       "      <td>0.0</td>\n",
       "      <td>0.0</td>\n",
       "      <td>0.0</td>\n",
       "      <td>521.0</td>\n",
       "      <td>94.0</td>\n",
       "      <td>190.0</td>\n",
       "    </tr>\n",
       "    <tr>\n",
       "      <th>payment_card</th>\n",
       "      <td>0.0</td>\n",
       "      <td>0.0</td>\n",
       "      <td>0.0</td>\n",
       "      <td>33.0</td>\n",
       "      <td>20.0</td>\n",
       "      <td>0.0</td>\n",
       "      <td>0.0</td>\n",
       "      <td>0.0</td>\n",
       "      <td>0.0</td>\n",
       "      <td>0.0</td>\n",
       "      <td>0.0</td>\n",
       "      <td>475.0</td>\n",
       "      <td>0.0</td>\n",
       "    </tr>\n",
       "    <tr>\n",
       "      <th>payment_done</th>\n",
       "      <td>0.0</td>\n",
       "      <td>0.0</td>\n",
       "      <td>0.0</td>\n",
       "      <td>0.0</td>\n",
       "      <td>242.0</td>\n",
       "      <td>0.0</td>\n",
       "      <td>0.0</td>\n",
       "      <td>0.0</td>\n",
       "      <td>0.0</td>\n",
       "      <td>0.0</td>\n",
       "      <td>0.0</td>\n",
       "      <td>0.0</td>\n",
       "      <td>0.0</td>\n",
       "    </tr>\n",
       "    <tr>\n",
       "      <th>payment_cash</th>\n",
       "      <td>0.0</td>\n",
       "      <td>0.0</td>\n",
       "      <td>0.0</td>\n",
       "      <td>44.0</td>\n",
       "      <td>45.0</td>\n",
       "      <td>0.0</td>\n",
       "      <td>0.0</td>\n",
       "      <td>0.0</td>\n",
       "      <td>0.0</td>\n",
       "      <td>0.0</td>\n",
       "      <td>0.0</td>\n",
       "      <td>102.0</td>\n",
       "      <td>0.0</td>\n",
       "    </tr>\n",
       "  </tbody>\n",
       "</table>\n",
       "</div>"
      ],
      "text/plain": [
       "                    cart  catalog  delivery_choice    lost    main  product1  \\\n",
       "cart                 1.0    478.0           1356.0   330.0   204.0       0.0   \n",
       "catalog           1324.0   2004.0              0.0  1605.0  1480.0    1122.0   \n",
       "delivery_choice      0.0    172.0              0.0    92.0    68.0       0.0   \n",
       "lost                 0.0      0.0              0.0     0.0     0.0       0.0   \n",
       "main                 0.0   2015.0              0.0   488.0   603.0       0.0   \n",
       "product1           431.0    620.0              0.0   163.0   114.0       0.0   \n",
       "product2           582.0    934.0              0.0   116.0    88.0       0.0   \n",
       "delivery_courier     0.0      0.0              0.0    46.0    34.0       0.0   \n",
       "delivery_pickup      0.0      0.0              0.0    92.0    55.0       0.0   \n",
       "payment_choice       0.0    108.0              0.0    89.0    41.0       0.0   \n",
       "payment_card         0.0      0.0              0.0    33.0    20.0       0.0   \n",
       "payment_done         0.0      0.0              0.0     0.0   242.0       0.0   \n",
       "payment_cash         0.0      0.0              0.0    44.0    45.0       0.0   \n",
       "\n",
       "                  product2  delivery_courier  delivery_pickup  payment_choice  \\\n",
       "cart                   0.0               0.0              0.0             0.0   \n",
       "catalog             1430.0               0.0              0.0             0.0   \n",
       "delivery_choice        0.0             748.0            469.0             0.0   \n",
       "lost                   0.0               0.0              0.0             0.0   \n",
       "main                   0.0               0.0              0.0             0.0   \n",
       "product1               0.0               0.0              0.0             0.0   \n",
       "product2               0.0               0.0              0.0             0.0   \n",
       "delivery_courier       0.0               0.0              0.0           683.0   \n",
       "delivery_pickup        0.0               0.0              0.0           332.0   \n",
       "payment_choice         0.0               0.0              0.0             0.0   \n",
       "payment_card           0.0               0.0              0.0             0.0   \n",
       "payment_done           0.0               0.0              0.0             0.0   \n",
       "payment_cash           0.0               0.0              0.0             0.0   \n",
       "\n",
       "                  payment_card  payment_done  payment_cash  \n",
       "cart                       0.0           0.0           0.0  \n",
       "catalog                    0.0           0.0           0.0  \n",
       "delivery_choice            0.0           0.0           0.0  \n",
       "lost                       0.0           0.0           0.0  \n",
       "main                       0.0           0.0           0.0  \n",
       "product1                   0.0           0.0           0.0  \n",
       "product2                   0.0           0.0           0.0  \n",
       "delivery_courier           0.0           0.0           0.0  \n",
       "delivery_pickup            0.0           0.0           0.0  \n",
       "payment_choice           521.0          94.0         190.0  \n",
       "payment_card               0.0         475.0           0.0  \n",
       "payment_done               0.0           0.0           0.0  \n",
       "payment_cash               0.0         102.0           0.0  "
      ]
     },
     "execution_count": 4,
     "metadata": {},
     "output_type": "execute_result"
    }
   ],
   "source": [
    "data.rete.get_adjacency(weight_col='user_id', norm_type=None)"
   ]
  },
  {
   "cell_type": "markdown",
   "metadata": {
    "id": "8y298VSwXqTS"
   },
   "source": [
    "The beauty of this function is that it returns dataframe you can farther work with in a very convinient way:"
   ]
  },
  {
   "cell_type": "code",
   "execution_count": 5,
   "metadata": {
    "id": "0XcrEUlSSLG8"
   },
   "outputs": [],
   "source": [
    "df=data.rete.get_adjacency(weight_col='user_id', norm_type=None)"
   ]
  },
  {
   "cell_type": "markdown",
   "metadata": {
    "id": "_WkulxdIHVLD"
   },
   "source": [
    "Now we can select only nodes from which at least some users (more than 0) had transitions into the cart:\n"
   ]
  },
  {
   "cell_type": "code",
   "execution_count": 6,
   "metadata": {
    "colab": {
     "base_uri": "https://localhost:8080/",
     "height": 170
    },
    "id": "4zbdH7TsHVLD",
    "outputId": "7a65efa4-bb1c-4bfe-d619-46b577f1ef15"
   },
   "outputs": [
    {
     "data": {
      "text/html": [
       "<div>\n",
       "<style scoped>\n",
       "    .dataframe tbody tr th:only-of-type {\n",
       "        vertical-align: middle;\n",
       "    }\n",
       "\n",
       "    .dataframe tbody tr th {\n",
       "        vertical-align: top;\n",
       "    }\n",
       "\n",
       "    .dataframe thead th {\n",
       "        text-align: right;\n",
       "    }\n",
       "</style>\n",
       "<table border=\"1\" class=\"dataframe\">\n",
       "  <thead>\n",
       "    <tr style=\"text-align: right;\">\n",
       "      <th></th>\n",
       "      <th>cart</th>\n",
       "      <th>catalog</th>\n",
       "      <th>delivery_choice</th>\n",
       "      <th>lost</th>\n",
       "      <th>main</th>\n",
       "      <th>product1</th>\n",
       "      <th>product2</th>\n",
       "      <th>delivery_courier</th>\n",
       "      <th>delivery_pickup</th>\n",
       "      <th>payment_choice</th>\n",
       "      <th>payment_card</th>\n",
       "      <th>payment_done</th>\n",
       "      <th>payment_cash</th>\n",
       "    </tr>\n",
       "  </thead>\n",
       "  <tbody>\n",
       "    <tr>\n",
       "      <th>cart</th>\n",
       "      <td>1.0</td>\n",
       "      <td>478.0</td>\n",
       "      <td>1356.0</td>\n",
       "      <td>330.0</td>\n",
       "      <td>204.0</td>\n",
       "      <td>0.0</td>\n",
       "      <td>0.0</td>\n",
       "      <td>0.0</td>\n",
       "      <td>0.0</td>\n",
       "      <td>0.0</td>\n",
       "      <td>0.0</td>\n",
       "      <td>0.0</td>\n",
       "      <td>0.0</td>\n",
       "    </tr>\n",
       "    <tr>\n",
       "      <th>catalog</th>\n",
       "      <td>1324.0</td>\n",
       "      <td>2004.0</td>\n",
       "      <td>0.0</td>\n",
       "      <td>1605.0</td>\n",
       "      <td>1480.0</td>\n",
       "      <td>1122.0</td>\n",
       "      <td>1430.0</td>\n",
       "      <td>0.0</td>\n",
       "      <td>0.0</td>\n",
       "      <td>0.0</td>\n",
       "      <td>0.0</td>\n",
       "      <td>0.0</td>\n",
       "      <td>0.0</td>\n",
       "    </tr>\n",
       "    <tr>\n",
       "      <th>product1</th>\n",
       "      <td>431.0</td>\n",
       "      <td>620.0</td>\n",
       "      <td>0.0</td>\n",
       "      <td>163.0</td>\n",
       "      <td>114.0</td>\n",
       "      <td>0.0</td>\n",
       "      <td>0.0</td>\n",
       "      <td>0.0</td>\n",
       "      <td>0.0</td>\n",
       "      <td>0.0</td>\n",
       "      <td>0.0</td>\n",
       "      <td>0.0</td>\n",
       "      <td>0.0</td>\n",
       "    </tr>\n",
       "    <tr>\n",
       "      <th>product2</th>\n",
       "      <td>582.0</td>\n",
       "      <td>934.0</td>\n",
       "      <td>0.0</td>\n",
       "      <td>116.0</td>\n",
       "      <td>88.0</td>\n",
       "      <td>0.0</td>\n",
       "      <td>0.0</td>\n",
       "      <td>0.0</td>\n",
       "      <td>0.0</td>\n",
       "      <td>0.0</td>\n",
       "      <td>0.0</td>\n",
       "      <td>0.0</td>\n",
       "      <td>0.0</td>\n",
       "    </tr>\n",
       "  </tbody>\n",
       "</table>\n",
       "</div>"
      ],
      "text/plain": [
       "            cart  catalog  delivery_choice    lost    main  product1  \\\n",
       "cart         1.0    478.0           1356.0   330.0   204.0       0.0   \n",
       "catalog   1324.0   2004.0              0.0  1605.0  1480.0    1122.0   \n",
       "product1   431.0    620.0              0.0   163.0   114.0       0.0   \n",
       "product2   582.0    934.0              0.0   116.0    88.0       0.0   \n",
       "\n",
       "          product2  delivery_courier  delivery_pickup  payment_choice  \\\n",
       "cart           0.0               0.0              0.0             0.0   \n",
       "catalog     1430.0               0.0              0.0             0.0   \n",
       "product1       0.0               0.0              0.0             0.0   \n",
       "product2       0.0               0.0              0.0             0.0   \n",
       "\n",
       "          payment_card  payment_done  payment_cash  \n",
       "cart               0.0           0.0           0.0  \n",
       "catalog            0.0           0.0           0.0  \n",
       "product1           0.0           0.0           0.0  \n",
       "product2           0.0           0.0           0.0  "
      ]
     },
     "execution_count": 6,
     "metadata": {},
     "output_type": "execute_result"
    }
   ],
   "source": [
    "df[df['cart']>0]"
   ]
  },
  {
   "cell_type": "markdown",
   "metadata": {
    "id": "pN5mTDepHVLG"
   },
   "source": [
    "How many users had reached the cart in total:\n"
   ]
  },
  {
   "cell_type": "code",
   "execution_count": 7,
   "metadata": {
    "colab": {
     "base_uri": "https://localhost:8080/",
     "height": 34
    },
    "id": "KcmhpL1cYY5E",
    "outputId": "bf9483c8-5568-46b5-d636-84b55c9a69f3"
   },
   "outputs": [
    {
     "data": {
      "text/plain": [
       "2338.0"
      ]
     },
     "execution_count": 7,
     "metadata": {},
     "output_type": "execute_result"
    }
   ],
   "source": [
    "df['cart'].sum()"
   ]
  }
 ],
 "metadata": {
  "colab": {
   "name": "Copy of graph_tutorial.ipynb",
   "provenance": []
  },
  "kernelspec": {
   "display_name": "Python 3",
   "language": "python",
   "name": "python3"
  },
  "language_info": {
   "codemirror_mode": {
    "name": "ipython",
    "version": 3
   },
   "file_extension": ".py",
   "mimetype": "text/x-python",
   "name": "python",
   "nbconvert_exporter": "python",
   "pygments_lexer": "ipython3",
   "version": "3.8.5"
  },
  "toc": {
   "base_numbering": 1,
   "nav_menu": {},
   "number_sections": false,
   "sideBar": true,
   "skip_h1_title": false,
   "title_cell": "Table of Contents",
   "title_sidebar": "Contents",
   "toc_cell": false,
   "toc_position": {
    "height": "calc(100% - 180px)",
    "left": "10px",
    "top": "150px",
    "width": "384px"
   },
   "toc_section_display": true,
   "toc_window_display": true
  }
 },
 "nbformat": 4,
 "nbformat_minor": 1
}